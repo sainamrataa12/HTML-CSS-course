{
  "nbformat": 4,
  "nbformat_minor": 0,
  "metadata": {
    "colab": {
      "provenance": [],
      "authorship_tag": "ABX9TyNn15hQ+1SwN4tNeESzExZw",
      "include_colab_link": true
    },
    "kernelspec": {
      "name": "python3",
      "display_name": "Python 3"
    },
    "language_info": {
      "name": "python"
    }
  },
  "cells": [
    {
      "cell_type": "markdown",
      "metadata": {
        "id": "view-in-github",
        "colab_type": "text"
      },
      "source": [
        "<a href=\"https://colab.research.google.com/github/sainamrataa12/HTML-CSS-course/blob/main/Untitled3.ipynb\" target=\"_parent\"><img src=\"https://colab.research.google.com/assets/colab-badge.svg\" alt=\"Open In Colab\"/></a>"
      ]
    },
    {
      "cell_type": "code",
      "execution_count": 51,
      "metadata": {
        "colab": {
          "base_uri": "https://localhost:8080/"
        },
        "id": "ahgvE68a456b",
        "outputId": "efecb293-bddc-476a-f0d8-bfcaa9142267"
      },
      "outputs": [
        {
          "output_type": "stream",
          "name": "stdout",
          "text": [
            "fatal: destination path 'STORK' already exists and is not an empty directory.\n"
          ]
        }
      ],
      "source": [
        "# Clone the STORK repository\n",
        "!git clone https://github.com/ih-lab/STORK.git\n"
      ]
    },
    {
      "cell_type": "code",
      "source": [
        "import os\n",
        "\n",
        "train_path = '/content/STORK/Images/train'\n",
        "print(\"Good images:\", os.listdir(os.path.join(train_path, 'good')))\n",
        "print(\"Poor images:\", os.listdir(os.path.join(train_path, 'poor')))\n"
      ],
      "metadata": {
        "colab": {
          "base_uri": "https://localhost:8080/"
        },
        "id": "csC9cIwv5PyV",
        "outputId": "a5369e53-e7de-411c-aa1b-ce9a0c5ab437"
      },
      "execution_count": 52,
      "outputs": [
        {
          "output_type": "stream",
          "name": "stdout",
          "text": [
            "Good images: ['66503199_30_3AA.jpg', '34107362_-15_3AA-.jpg', '39008723_-45_3AA.jpg', '34107362_15_3AA-.jpg', '33996213_-45_3AB.jpg', '67628794_-45_3A-A-.jpg', '33996213_-30_3AB.jpg', '36338476_45_3AA.jpg', '67628794_30_3A-A-.jpg', '34107362_-30_3AA-.jpg', '36338476_-45_3AA.jpg', '34107362_30_3AA-.jpg', '36338476_30_3AA.jpg', '33996213_-15_3AB.jpg', '39008723_15_3AA.jpg', '39008723_-30_3AA.jpg', '33996213_15_3AB.jpg', '39008723_30_3AA.jpg', '36338476_0_3AA.jpg', '34107362_-45_3AA-.jpg', '67628794_0_3A-A-.jpg', '67628794_15_3A-A-.jpg', '67628794_-15_3A-A-.jpg', '66503199_-15_3AA.jpg', '33996213_30_3AB.jpg', '67628794_-30_3A-A-.jpg', '39008723_-15_3AA.jpg', '66503199_-45_3AA.jpg', '39008723_45_3AA.jpg', '33996213_45_3AB.jpg', '66503199_0_3AA.jpg', '34107362_45_3AA-.jpg', '66503199_15_3AA.jpg', '33996213_0_3AB.jpg', '67628794_45_3A-A-.jpg', '39008723_0_3AA.jpg', '34107362_0_3AA-.jpg', '36338476_-30_3AA.jpg', '66503199_-30_3AA.jpg', '66503199_45_3AA.jpg', '36338476_-15_3AA.jpg', '36338476_15_3AA.jpg']\n",
            "Poor images: ['97758912_0_1BB-.jpg', '32176207_-45_2BB-.jpg', '41019399_0_1B-B-.jpg', '32176207_-30_2BB-.jpg', '41019399_-30_1B-B-.jpg', '35635677_-45_2B-B-.jpg', '35635677_30_2B-B-.jpg', '35635677_-30_2B-B-.jpg', '35635677_0_2B-B-.jpg', '32176207_15_2BB-.jpg', '32898300_30_1B-B-.jpg', '32898300_0_1B-B-.jpg', '35635677_15_2B-B-.jpg', '97758912_45_1BB-.jpg', '36933247_-15_1BB.jpg', '32176207_0_2BB-.jpg', '41019399_15_1B-B-.jpg', '36933247_-45_1BB.jpg', '41019399_30_1B-B-.jpg', '32898300_-15_1B-B-.jpg', '41019399_-15_1B-B-.jpg', '97758912_-30_1BB-.jpg', '32176207_-15_2BB-.jpg', '36933247_15_1BB.jpg', '97758912_-45_1BB-.jpg', '32176207_30_2BB-.jpg', '32898300_15_1B-B-.jpg', '36933247_45_1BB.jpg', '32898300_-30_1B-B-.jpg', '41019399_45_1B-B-.jpg', '32898300_45_1B-B-.jpg', '97758912_-15_1BB-.jpg', '35635677_-15_2B-B-.jpg', '41019399_-45_1B-B-.jpg', '97758912_30_1BB-.jpg', '36933247_0_1BB.jpg', '36933247_-30_1BB.jpg', '32898300_-45_1B-B-.jpg', '97758912_15_1BB-.jpg', '35635677_45_2B-B-.jpg', '36933247_30_1BB.jpg', '32176207_45_2BB-.jpg']\n"
          ]
        }
      ]
    },
    {
      "cell_type": "code",
      "source": [
        "import os\n",
        "\n",
        "base_path = \"/content/drive/MyDrive/AI_Embryo_Viability_Prediction\"\n",
        "\n",
        "folders = [\n",
        "    f\"{base_path}/data/raw\",\n",
        "    f\"{base_path}/data/processed\",\n",
        "    f\"{base_path}/data/numpy_arrays\",\n",
        "    f\"{base_path}/notebooks\",\n",
        "    f\"{base_path}/models\",\n",
        "    f\"{base_path}/results\"\n",
        "]\n",
        "\n",
        "for folder in folders:\n",
        "    os.makedirs(folder, exist_ok=True)\n",
        "    print(f\"📁 Created: {folder}\")\n"
      ],
      "metadata": {
        "colab": {
          "base_uri": "https://localhost:8080/"
        },
        "id": "O_alhD5W5gAv",
        "outputId": "1f88f1f7-a1fb-4d46-836d-6d7533ad661f"
      },
      "execution_count": 53,
      "outputs": [
        {
          "output_type": "stream",
          "name": "stdout",
          "text": [
            "📁 Created: /content/drive/MyDrive/AI_Embryo_Viability_Prediction/data/raw\n",
            "📁 Created: /content/drive/MyDrive/AI_Embryo_Viability_Prediction/data/processed\n",
            "📁 Created: /content/drive/MyDrive/AI_Embryo_Viability_Prediction/data/numpy_arrays\n",
            "📁 Created: /content/drive/MyDrive/AI_Embryo_Viability_Prediction/notebooks\n",
            "📁 Created: /content/drive/MyDrive/AI_Embryo_Viability_Prediction/models\n",
            "📁 Created: /content/drive/MyDrive/AI_Embryo_Viability_Prediction/results\n"
          ]
        }
      ]
    },
    {
      "cell_type": "code",
      "source": [
        "!python /MyDrive/AI_Embryo_Viability_Prediction_System/scripts/load_train_data.py\n"
      ],
      "metadata": {
        "colab": {
          "base_uri": "https://localhost:8080/"
        },
        "id": "sPJdOP_t6mML",
        "outputId": "edd4dc98-3d72-40b2-e04e-4fe42a540e87"
      },
      "execution_count": 54,
      "outputs": [
        {
          "output_type": "stream",
          "name": "stdout",
          "text": [
            "python3: can't open file '/MyDrive/AI_Embryo_Viability_Prediction_System/scripts/load_train_data.py': [Errno 2] No such file or directory\n"
          ]
        }
      ]
    },
    {
      "cell_type": "code",
      "source": [
        "/content/drive/MyDrive/AI_Embryo_Viability_Prediction_System/scripts/load_train_data.py\n"
      ],
      "metadata": {
        "colab": {
          "base_uri": "https://localhost:8080/",
          "height": 141
        },
        "id": "RRAYlUqf7RjC",
        "outputId": "1f855301-1dc8-4f87-9677-354389439ea5"
      },
      "execution_count": 55,
      "outputs": [
        {
          "output_type": "error",
          "ename": "NameError",
          "evalue": "name 'content' is not defined",
          "traceback": [
            "\u001b[0;31m---------------------------------------------------------------------------\u001b[0m",
            "\u001b[0;31mNameError\u001b[0m                                 Traceback (most recent call last)",
            "\u001b[0;32m/tmp/ipython-input-132654298.py\u001b[0m in \u001b[0;36m<cell line: 0>\u001b[0;34m()\u001b[0m\n\u001b[0;32m----> 1\u001b[0;31m \u001b[0mcontent\u001b[0m\u001b[0;34m/\u001b[0m\u001b[0mdrive\u001b[0m\u001b[0;34m/\u001b[0m\u001b[0mMyDrive\u001b[0m\u001b[0;34m/\u001b[0m\u001b[0mAI_Embryo_Viability_Prediction_System\u001b[0m\u001b[0;34m/\u001b[0m\u001b[0mscripts\u001b[0m\u001b[0;34m/\u001b[0m\u001b[0mload_train_data\u001b[0m\u001b[0;34m.\u001b[0m\u001b[0mpy\u001b[0m\u001b[0;34m(\u001b[0m\u001b[0;34m)\u001b[0m\u001b[0;34m\u001b[0m\u001b[0;34m\u001b[0m\u001b[0m\n\u001b[0m",
            "\u001b[0;31mNameError\u001b[0m: name 'content' is not defined"
          ]
        }
      ]
    },
    {
      "cell_type": "code",
      "source": [
        "!python3 /drive/MyDrive/AI_Embryo_Viability_Prediction_System/scripts/load_train_data.py\n"
      ],
      "metadata": {
        "id": "P5UDv-_J7dHL"
      },
      "execution_count": null,
      "outputs": []
    },
    {
      "cell_type": "code",
      "source": [
        "!ls /content/drive/MyDrive/AI_Embryo_Viability_Prediction_System/scripts/\n"
      ],
      "metadata": {
        "colab": {
          "base_uri": "https://localhost:8080/"
        },
        "id": "uOGNhqDS8Ara",
        "outputId": "aa400c4a-d945-4119-f83b-ef80320c56c0"
      },
      "execution_count": 56,
      "outputs": [
        {
          "output_type": "stream",
          "name": "stdout",
          "text": [
            "ls: cannot access '/content/drive/MyDrive/AI_Embryo_Viability_Prediction_System/scripts/': No such file or directory\n"
          ]
        }
      ]
    },
    {
      "cell_type": "code",
      "source": [
        "!ls /content/drive/MyDrive/AI_Embryo_Viability_Prediction_System/scripts/\n"
      ],
      "metadata": {
        "id": "7SycsyWp8Io1"
      },
      "execution_count": null,
      "outputs": []
    },
    {
      "cell_type": "code",
      "source": [
        "!find /content/drive -type d -name \"AI_Embryo_Viability_Prediction_System\"\n"
      ],
      "metadata": {
        "id": "zJIaGLJu8XGe"
      },
      "execution_count": null,
      "outputs": []
    },
    {
      "cell_type": "code",
      "source": [
        "from google.colab import drive\n",
        "drive.mount('/content/drive')"
      ],
      "metadata": {
        "id": "KVd23uh0AYhf"
      },
      "execution_count": null,
      "outputs": []
    },
    {
      "cell_type": "code",
      "source": [],
      "metadata": {
        "id": "k6BcQWKgBvPW"
      },
      "execution_count": null,
      "outputs": []
    },
    {
      "cell_type": "code",
      "source": [
        "!ls /drive/MyDrive/Projects/AI_Embryo_Viability_Prediction/scripts/\n"
      ],
      "metadata": {
        "colab": {
          "base_uri": "https://localhost:8080/"
        },
        "id": "fthdQleAA5Je",
        "outputId": "79b8c9b5-f363-48f4-eb8b-75dc497d175f"
      },
      "execution_count": 57,
      "outputs": [
        {
          "output_type": "stream",
          "name": "stdout",
          "text": [
            "ls: cannot access '/drive/MyDrive/Projects/AI_Embryo_Viability_Prediction/scripts/': No such file or directory\n"
          ]
        }
      ]
    },
    {
      "cell_type": "code",
      "source": [
        "from google.colab import drive\n",
        "drive.mount('/content/drive')\n"
      ],
      "metadata": {
        "id": "ZNb8UxbwBinR"
      },
      "execution_count": null,
      "outputs": []
    },
    {
      "cell_type": "code",
      "source": [
        "!ls /content\n"
      ],
      "metadata": {
        "id": "3kAQUj1hCeDV"
      },
      "execution_count": null,
      "outputs": []
    },
    {
      "cell_type": "code",
      "source": [
        "!ls /content\n"
      ],
      "metadata": {
        "id": "lXCa3sVZCqLL"
      },
      "execution_count": null,
      "outputs": []
    },
    {
      "cell_type": "code",
      "source": [
        "!ls /content/drive/MyDrive/AI_Embryo_Viability_Prediction/scripts/\n"
      ],
      "metadata": {
        "colab": {
          "base_uri": "https://localhost:8080/"
        },
        "id": "A9WbgG9OCt5t",
        "outputId": "49bc07d9-e4e4-4f4e-9ecf-ba8e78a306b7"
      },
      "execution_count": 58,
      "outputs": [
        {
          "output_type": "stream",
          "name": "stdout",
          "text": [
            "explain_lime.py  model.py  train.py  validate.py\n"
          ]
        }
      ]
    },
    {
      "cell_type": "code",
      "source": [
        "!python3 /content/drive/MyDrive/AI_Embryo_Viability_Prediction/scripts/load_train_data.py\n"
      ],
      "metadata": {
        "colab": {
          "base_uri": "https://localhost:8080/"
        },
        "id": "zmzyK-RtDJw9",
        "outputId": "72b2c1f9-b109-484f-9578-3951eb4be330"
      },
      "execution_count": 64,
      "outputs": [
        {
          "output_type": "stream",
          "name": "stdout",
          "text": [
            "Classes: ['good', 'poor']\n",
            "Total images: 84\n",
            "Training samples: 67\n",
            "Validation samples: 17\n",
            "Batch shape: torch.Size([8, 3, 128, 128])\n",
            "Batch labels: tensor([0, 1, 0, 1, 1, 0, 1, 1])\n"
          ]
        }
      ]
    },
    {
      "cell_type": "code",
      "source": [
        "pip install torch torchvision matplotlib lime scikit-image\n"
      ],
      "metadata": {
        "colab": {
          "base_uri": "https://localhost:8080/"
        },
        "id": "5DLWFnAbFrV-",
        "outputId": "d81beaee-2943-4bb2-b1a7-261feb23f21c"
      },
      "execution_count": 61,
      "outputs": [
        {
          "output_type": "stream",
          "name": "stdout",
          "text": [
            "Requirement already satisfied: torch in /usr/local/lib/python3.12/dist-packages (2.8.0+cu126)\n",
            "Requirement already satisfied: torchvision in /usr/local/lib/python3.12/dist-packages (0.23.0+cu126)\n",
            "Requirement already satisfied: matplotlib in /usr/local/lib/python3.12/dist-packages (3.10.0)\n",
            "Collecting lime\n",
            "  Downloading lime-0.2.0.1.tar.gz (275 kB)\n",
            "\u001b[2K     \u001b[90m━━━━━━━━━━━━━━━━━━━━━━━━━━━━━━━━━━━━━━━\u001b[0m \u001b[32m275.7/275.7 kB\u001b[0m \u001b[31m6.0 MB/s\u001b[0m eta \u001b[36m0:00:00\u001b[0m\n",
            "\u001b[?25h  Preparing metadata (setup.py) ... \u001b[?25l\u001b[?25hdone\n",
            "Requirement already satisfied: scikit-image in /usr/local/lib/python3.12/dist-packages (0.25.2)\n",
            "Requirement already satisfied: filelock in /usr/local/lib/python3.12/dist-packages (from torch) (3.19.1)\n",
            "Requirement already satisfied: typing-extensions>=4.10.0 in /usr/local/lib/python3.12/dist-packages (from torch) (4.15.0)\n",
            "Requirement already satisfied: setuptools in /usr/local/lib/python3.12/dist-packages (from torch) (75.2.0)\n",
            "Requirement already satisfied: sympy>=1.13.3 in /usr/local/lib/python3.12/dist-packages (from torch) (1.13.3)\n",
            "Requirement already satisfied: networkx in /usr/local/lib/python3.12/dist-packages (from torch) (3.5)\n",
            "Requirement already satisfied: jinja2 in /usr/local/lib/python3.12/dist-packages (from torch) (3.1.6)\n",
            "Requirement already satisfied: fsspec in /usr/local/lib/python3.12/dist-packages (from torch) (2025.3.0)\n",
            "Requirement already satisfied: nvidia-cuda-nvrtc-cu12==12.6.77 in /usr/local/lib/python3.12/dist-packages (from torch) (12.6.77)\n",
            "Requirement already satisfied: nvidia-cuda-runtime-cu12==12.6.77 in /usr/local/lib/python3.12/dist-packages (from torch) (12.6.77)\n",
            "Requirement already satisfied: nvidia-cuda-cupti-cu12==12.6.80 in /usr/local/lib/python3.12/dist-packages (from torch) (12.6.80)\n",
            "Requirement already satisfied: nvidia-cudnn-cu12==9.10.2.21 in /usr/local/lib/python3.12/dist-packages (from torch) (9.10.2.21)\n",
            "Requirement already satisfied: nvidia-cublas-cu12==12.6.4.1 in /usr/local/lib/python3.12/dist-packages (from torch) (12.6.4.1)\n",
            "Requirement already satisfied: nvidia-cufft-cu12==11.3.0.4 in /usr/local/lib/python3.12/dist-packages (from torch) (11.3.0.4)\n",
            "Requirement already satisfied: nvidia-curand-cu12==10.3.7.77 in /usr/local/lib/python3.12/dist-packages (from torch) (10.3.7.77)\n",
            "Requirement already satisfied: nvidia-cusolver-cu12==11.7.1.2 in /usr/local/lib/python3.12/dist-packages (from torch) (11.7.1.2)\n",
            "Requirement already satisfied: nvidia-cusparse-cu12==12.5.4.2 in /usr/local/lib/python3.12/dist-packages (from torch) (12.5.4.2)\n",
            "Requirement already satisfied: nvidia-cusparselt-cu12==0.7.1 in /usr/local/lib/python3.12/dist-packages (from torch) (0.7.1)\n",
            "Requirement already satisfied: nvidia-nccl-cu12==2.27.3 in /usr/local/lib/python3.12/dist-packages (from torch) (2.27.3)\n",
            "Requirement already satisfied: nvidia-nvtx-cu12==12.6.77 in /usr/local/lib/python3.12/dist-packages (from torch) (12.6.77)\n",
            "Requirement already satisfied: nvidia-nvjitlink-cu12==12.6.85 in /usr/local/lib/python3.12/dist-packages (from torch) (12.6.85)\n",
            "Requirement already satisfied: nvidia-cufile-cu12==1.11.1.6 in /usr/local/lib/python3.12/dist-packages (from torch) (1.11.1.6)\n",
            "Requirement already satisfied: triton==3.4.0 in /usr/local/lib/python3.12/dist-packages (from torch) (3.4.0)\n",
            "Requirement already satisfied: numpy in /usr/local/lib/python3.12/dist-packages (from torchvision) (2.0.2)\n",
            "Requirement already satisfied: pillow!=8.3.*,>=5.3.0 in /usr/local/lib/python3.12/dist-packages (from torchvision) (11.3.0)\n",
            "Requirement already satisfied: contourpy>=1.0.1 in /usr/local/lib/python3.12/dist-packages (from matplotlib) (1.3.3)\n",
            "Requirement already satisfied: cycler>=0.10 in /usr/local/lib/python3.12/dist-packages (from matplotlib) (0.12.1)\n",
            "Requirement already satisfied: fonttools>=4.22.0 in /usr/local/lib/python3.12/dist-packages (from matplotlib) (4.60.1)\n",
            "Requirement already satisfied: kiwisolver>=1.3.1 in /usr/local/lib/python3.12/dist-packages (from matplotlib) (1.4.9)\n",
            "Requirement already satisfied: packaging>=20.0 in /usr/local/lib/python3.12/dist-packages (from matplotlib) (25.0)\n",
            "Requirement already satisfied: pyparsing>=2.3.1 in /usr/local/lib/python3.12/dist-packages (from matplotlib) (3.2.5)\n",
            "Requirement already satisfied: python-dateutil>=2.7 in /usr/local/lib/python3.12/dist-packages (from matplotlib) (2.9.0.post0)\n",
            "Requirement already satisfied: scipy in /usr/local/lib/python3.12/dist-packages (from lime) (1.16.2)\n",
            "Requirement already satisfied: tqdm in /usr/local/lib/python3.12/dist-packages (from lime) (4.67.1)\n",
            "Requirement already satisfied: scikit-learn>=0.18 in /usr/local/lib/python3.12/dist-packages (from lime) (1.6.1)\n",
            "Requirement already satisfied: imageio!=2.35.0,>=2.33 in /usr/local/lib/python3.12/dist-packages (from scikit-image) (2.37.0)\n",
            "Requirement already satisfied: tifffile>=2022.8.12 in /usr/local/lib/python3.12/dist-packages (from scikit-image) (2025.9.30)\n",
            "Requirement already satisfied: lazy-loader>=0.4 in /usr/local/lib/python3.12/dist-packages (from scikit-image) (0.4)\n",
            "Requirement already satisfied: six>=1.5 in /usr/local/lib/python3.12/dist-packages (from python-dateutil>=2.7->matplotlib) (1.17.0)\n",
            "Requirement already satisfied: joblib>=1.2.0 in /usr/local/lib/python3.12/dist-packages (from scikit-learn>=0.18->lime) (1.5.2)\n",
            "Requirement already satisfied: threadpoolctl>=3.1.0 in /usr/local/lib/python3.12/dist-packages (from scikit-learn>=0.18->lime) (3.6.0)\n",
            "Requirement already satisfied: mpmath<1.4,>=1.1.0 in /usr/local/lib/python3.12/dist-packages (from sympy>=1.13.3->torch) (1.3.0)\n",
            "Requirement already satisfied: MarkupSafe>=2.0 in /usr/local/lib/python3.12/dist-packages (from jinja2->torch) (3.0.3)\n",
            "Building wheels for collected packages: lime\n",
            "  Building wheel for lime (setup.py) ... \u001b[?25l\u001b[?25hdone\n",
            "  Created wheel for lime: filename=lime-0.2.0.1-py3-none-any.whl size=283834 sha256=98c72975e2f5b342b8f75d38ce1aac3d8739ff227dc799fecb4582a0c4b9075a\n",
            "  Stored in directory: /root/.cache/pip/wheels/e7/5d/0e/4b4fff9a47468fed5633211fb3b76d1db43fe806a17fb7486a\n",
            "Successfully built lime\n",
            "Installing collected packages: lime\n",
            "Successfully installed lime-0.2.0.1\n"
          ]
        }
      ]
    },
    {
      "cell_type": "code",
      "source": [
        "!python3 /content/drive/MyDrive/AI_Embryo_Viability_Prediction/scripts/load_train_data.py\n"
      ],
      "metadata": {
        "colab": {
          "base_uri": "https://localhost:8080/"
        },
        "id": "uychKKarF21i",
        "outputId": "5e72bd06-d8c6-4f54-f8fe-abc14e10217a"
      },
      "execution_count": 65,
      "outputs": [
        {
          "output_type": "stream",
          "name": "stdout",
          "text": [
            "Classes: ['good', 'poor']\n",
            "Total images: 84\n",
            "Training samples: 67\n",
            "Validation samples: 17\n",
            "Batch shape: torch.Size([8, 3, 128, 128])\n",
            "Batch labels: tensor([0, 0, 1, 1, 1, 0, 1, 1])\n"
          ]
        }
      ]
    },
    {
      "cell_type": "code",
      "source": [
        "!python3 /content/drive/MyDrive/AI_Embryo_Viability_Prediction/scripts/train.py\n"
      ],
      "metadata": {
        "colab": {
          "base_uri": "https://localhost:8080/"
        },
        "id": "p0lPcis8F_fH",
        "outputId": "8c661969-22d6-4858-ea61-402e8cd7119a"
      },
      "execution_count": 66,
      "outputs": [
        {
          "output_type": "stream",
          "name": "stdout",
          "text": [
            "Classes: ['good', 'poor']\n",
            "Total images: 84\n",
            "Training samples: 67\n",
            "Validation samples: 17\n",
            "Batch shape: torch.Size([8, 3, 128, 128])\n",
            "Batch labels: tensor([0, 0, 0, 1, 0, 1, 0, 1])\n",
            "Epoch [1/10] Loss: 0.8005\n",
            "Epoch [2/10] Loss: 0.6662\n",
            "Epoch [3/10] Loss: 0.4330\n",
            "Epoch [4/10] Loss: 0.5082\n",
            "Epoch [5/10] Loss: 0.2502\n",
            "Epoch [6/10] Loss: 0.0878\n",
            "Epoch [7/10] Loss: 0.0449\n",
            "Epoch [8/10] Loss: 0.0135\n",
            "Epoch [9/10] Loss: 0.0071\n",
            "Epoch [10/10] Loss: 0.0045\n",
            "Model saved!\n"
          ]
        }
      ]
    },
    {
      "cell_type": "code",
      "source": [
        "!python3 /content/drive/MyDrive/AI_Embryo_Viability_Prediction/scripts/validate.py\n"
      ],
      "metadata": {
        "colab": {
          "base_uri": "https://localhost:8080/"
        },
        "id": "pBEZESh1ZMEJ",
        "outputId": "6768e6ba-f83b-4581-f767-bbe75924f318"
      },
      "execution_count": 67,
      "outputs": [
        {
          "output_type": "stream",
          "name": "stdout",
          "text": [
            "Classes: ['good', 'poor']\n",
            "Total images: 84\n",
            "Training samples: 67\n",
            "Validation samples: 17\n",
            "Batch shape: torch.Size([8, 3, 128, 128])\n",
            "Batch labels: tensor([1, 1, 1, 1, 1, 1, 1, 1])\n",
            "Validation Accuracy: 100.00%\n",
            "\n",
            "Predicted vs Actual:\n",
            "Predicted: good | Actual: good\n",
            "Predicted: poor | Actual: poor\n",
            "Predicted: good | Actual: good\n",
            "Predicted: poor | Actual: poor\n",
            "Predicted: poor | Actual: poor\n",
            "Predicted: good | Actual: good\n",
            "Predicted: poor | Actual: poor\n",
            "Predicted: poor | Actual: poor\n",
            "Predicted: poor | Actual: poor\n",
            "Predicted: good | Actual: good\n",
            "Predicted: poor | Actual: poor\n",
            "Predicted: poor | Actual: poor\n",
            "Predicted: good | Actual: good\n",
            "Predicted: good | Actual: good\n",
            "Predicted: good | Actual: good\n",
            "Predicted: poor | Actual: poor\n",
            "Predicted: good | Actual: good\n"
          ]
        }
      ]
    },
    {
      "cell_type": "code",
      "source": [
        "!python3 /content/drive/MyDrive/AI_Embryo_Viability_Prediction/scripts/explain_lime.py"
      ],
      "metadata": {
        "colab": {
          "base_uri": "https://localhost:8080/"
        },
        "id": "4T1Klw1DaKbG",
        "outputId": "fbb04f18-5a6c-464f-f86b-8abbd2270ebb"
      },
      "execution_count": 68,
      "outputs": [
        {
          "output_type": "stream",
          "name": "stdout",
          "text": [
            "Classes: ['good', 'poor']\n",
            "Total images: 84\n",
            "Training samples: 67\n",
            "Validation samples: 17\n",
            "Batch shape: torch.Size([8, 3, 128, 128])\n",
            "Batch labels: tensor([0, 0, 0, 0, 1, 0, 0, 0])\n",
            "100% 1000/1000 [00:14<00:00, 69.52it/s]\n",
            "Saved LIME heatmap: /content/drive/MyDrive/AI_Embryo_Viability_Prediction/lime_heatmaps_full/lime_0.png\n",
            "100% 1000/1000 [00:13<00:00, 71.76it/s]\n",
            "Saved LIME heatmap: /content/drive/MyDrive/AI_Embryo_Viability_Prediction/lime_heatmaps_full/lime_1.png\n",
            "100% 1000/1000 [00:13<00:00, 72.58it/s]\n",
            "Saved LIME heatmap: /content/drive/MyDrive/AI_Embryo_Viability_Prediction/lime_heatmaps_full/lime_2.png\n",
            "100% 1000/1000 [00:10<00:00, 92.51it/s]\n",
            "Saved LIME heatmap: /content/drive/MyDrive/AI_Embryo_Viability_Prediction/lime_heatmaps_full/lime_3.png\n",
            "100% 1000/1000 [00:10<00:00, 93.23it/s]\n",
            "Saved LIME heatmap: /content/drive/MyDrive/AI_Embryo_Viability_Prediction/lime_heatmaps_full/lime_4.png\n",
            "100% 1000/1000 [00:11<00:00, 84.10it/s]\n",
            "Saved LIME heatmap: /content/drive/MyDrive/AI_Embryo_Viability_Prediction/lime_heatmaps_full/lime_5.png\n",
            "100% 1000/1000 [00:16<00:00, 60.30it/s]\n",
            "Saved LIME heatmap: /content/drive/MyDrive/AI_Embryo_Viability_Prediction/lime_heatmaps_full/lime_6.png\n",
            "100% 1000/1000 [00:10<00:00, 91.58it/s]\n",
            "Saved LIME heatmap: /content/drive/MyDrive/AI_Embryo_Viability_Prediction/lime_heatmaps_full/lime_7.png\n",
            "100% 1000/1000 [00:14<00:00, 70.48it/s]\n",
            "Saved LIME heatmap: /content/drive/MyDrive/AI_Embryo_Viability_Prediction/lime_heatmaps_full/lime_8.png\n",
            "100% 1000/1000 [00:12<00:00, 78.14it/s]\n",
            "Saved LIME heatmap: /content/drive/MyDrive/AI_Embryo_Viability_Prediction/lime_heatmaps_full/lime_9.png\n",
            "100% 1000/1000 [00:12<00:00, 77.45it/s]\n",
            "Saved LIME heatmap: /content/drive/MyDrive/AI_Embryo_Viability_Prediction/lime_heatmaps_full/lime_10.png\n",
            "100% 1000/1000 [00:13<00:00, 74.31it/s]\n",
            "Saved LIME heatmap: /content/drive/MyDrive/AI_Embryo_Viability_Prediction/lime_heatmaps_full/lime_11.png\n",
            "100% 1000/1000 [00:12<00:00, 80.74it/s]\n",
            "Saved LIME heatmap: /content/drive/MyDrive/AI_Embryo_Viability_Prediction/lime_heatmaps_full/lime_12.png\n",
            "100% 1000/1000 [00:13<00:00, 75.07it/s]\n",
            "Saved LIME heatmap: /content/drive/MyDrive/AI_Embryo_Viability_Prediction/lime_heatmaps_full/lime_13.png\n",
            "100% 1000/1000 [00:13<00:00, 75.26it/s]\n",
            "Saved LIME heatmap: /content/drive/MyDrive/AI_Embryo_Viability_Prediction/lime_heatmaps_full/lime_14.png\n",
            "100% 1000/1000 [00:13<00:00, 76.33it/s]\n",
            "Saved LIME heatmap: /content/drive/MyDrive/AI_Embryo_Viability_Prediction/lime_heatmaps_full/lime_15.png\n",
            "100% 1000/1000 [00:13<00:00, 75.03it/s]\n",
            "Saved LIME heatmap: /content/drive/MyDrive/AI_Embryo_Viability_Prediction/lime_heatmaps_full/lime_16.png\n",
            "100% 1000/1000 [00:13<00:00, 74.88it/s]\n",
            "Saved LIME heatmap: /content/drive/MyDrive/AI_Embryo_Viability_Prediction/lime_heatmaps_full/lime_17.png\n",
            "100% 1000/1000 [00:14<00:00, 69.37it/s]\n",
            "Saved LIME heatmap: /content/drive/MyDrive/AI_Embryo_Viability_Prediction/lime_heatmaps_full/lime_18.png\n",
            "100% 1000/1000 [00:10<00:00, 93.58it/s]\n",
            "Saved LIME heatmap: /content/drive/MyDrive/AI_Embryo_Viability_Prediction/lime_heatmaps_full/lime_19.png\n",
            "100% 1000/1000 [00:12<00:00, 78.31it/s]\n",
            "Saved LIME heatmap: /content/drive/MyDrive/AI_Embryo_Viability_Prediction/lime_heatmaps_full/lime_20.png\n",
            "100% 1000/1000 [00:13<00:00, 72.43it/s]\n",
            "Saved LIME heatmap: /content/drive/MyDrive/AI_Embryo_Viability_Prediction/lime_heatmaps_full/lime_21.png\n",
            "100% 1000/1000 [00:13<00:00, 75.22it/s]\n",
            "Saved LIME heatmap: /content/drive/MyDrive/AI_Embryo_Viability_Prediction/lime_heatmaps_full/lime_22.png\n",
            "100% 1000/1000 [00:12<00:00, 78.04it/s]\n",
            "Saved LIME heatmap: /content/drive/MyDrive/AI_Embryo_Viability_Prediction/lime_heatmaps_full/lime_23.png\n",
            "100% 1000/1000 [00:13<00:00, 74.91it/s]\n",
            "Saved LIME heatmap: /content/drive/MyDrive/AI_Embryo_Viability_Prediction/lime_heatmaps_full/lime_24.png\n",
            "100% 1000/1000 [00:11<00:00, 84.69it/s]\n",
            "Saved LIME heatmap: /content/drive/MyDrive/AI_Embryo_Viability_Prediction/lime_heatmaps_full/lime_25.png\n",
            "100% 1000/1000 [00:10<00:00, 94.09it/s]\n",
            "Saved LIME heatmap: /content/drive/MyDrive/AI_Embryo_Viability_Prediction/lime_heatmaps_full/lime_26.png\n",
            "100% 1000/1000 [00:13<00:00, 75.11it/s]\n",
            "Saved LIME heatmap: /content/drive/MyDrive/AI_Embryo_Viability_Prediction/lime_heatmaps_full/lime_27.png\n",
            "100% 1000/1000 [00:12<00:00, 78.31it/s]\n",
            "Saved LIME heatmap: /content/drive/MyDrive/AI_Embryo_Viability_Prediction/lime_heatmaps_full/lime_28.png\n",
            "100% 1000/1000 [00:13<00:00, 75.11it/s]\n",
            "Saved LIME heatmap: /content/drive/MyDrive/AI_Embryo_Viability_Prediction/lime_heatmaps_full/lime_29.png\n",
            "100% 1000/1000 [00:13<00:00, 76.39it/s]\n",
            "Saved LIME heatmap: /content/drive/MyDrive/AI_Embryo_Viability_Prediction/lime_heatmaps_full/lime_30.png\n",
            "100% 1000/1000 [00:10<00:00, 94.32it/s]\n",
            "Saved LIME heatmap: /content/drive/MyDrive/AI_Embryo_Viability_Prediction/lime_heatmaps_full/lime_31.png\n",
            "100% 1000/1000 [00:16<00:00, 62.09it/s]\n",
            "Saved LIME heatmap: /content/drive/MyDrive/AI_Embryo_Viability_Prediction/lime_heatmaps_full/lime_32.png\n",
            "100% 1000/1000 [00:10<00:00, 94.70it/s]\n",
            "Saved LIME heatmap: /content/drive/MyDrive/AI_Embryo_Viability_Prediction/lime_heatmaps_full/lime_33.png\n",
            "100% 1000/1000 [00:13<00:00, 76.42it/s]\n",
            "Saved LIME heatmap: /content/drive/MyDrive/AI_Embryo_Viability_Prediction/lime_heatmaps_full/lime_34.png\n",
            "100% 1000/1000 [00:13<00:00, 74.55it/s]\n",
            "Saved LIME heatmap: /content/drive/MyDrive/AI_Embryo_Viability_Prediction/lime_heatmaps_full/lime_35.png\n",
            "100% 1000/1000 [00:10<00:00, 94.85it/s]\n",
            "Saved LIME heatmap: /content/drive/MyDrive/AI_Embryo_Viability_Prediction/lime_heatmaps_full/lime_36.png\n",
            "100% 1000/1000 [00:12<00:00, 77.20it/s]\n",
            "Saved LIME heatmap: /content/drive/MyDrive/AI_Embryo_Viability_Prediction/lime_heatmaps_full/lime_37.png\n",
            "100% 1000/1000 [00:10<00:00, 94.34it/s]\n",
            "Saved LIME heatmap: /content/drive/MyDrive/AI_Embryo_Viability_Prediction/lime_heatmaps_full/lime_38.png\n",
            "100% 1000/1000 [00:10<00:00, 91.60it/s]\n",
            "Saved LIME heatmap: /content/drive/MyDrive/AI_Embryo_Viability_Prediction/lime_heatmaps_full/lime_39.png\n",
            "100% 1000/1000 [00:09<00:00, 102.90it/s]\n",
            "Saved LIME heatmap: /content/drive/MyDrive/AI_Embryo_Viability_Prediction/lime_heatmaps_full/lime_40.png\n",
            "100% 1000/1000 [00:10<00:00, 93.51it/s]\n",
            "Saved LIME heatmap: /content/drive/MyDrive/AI_Embryo_Viability_Prediction/lime_heatmaps_full/lime_41.png\n",
            "100% 1000/1000 [00:10<00:00, 94.54it/s]\n",
            "Saved LIME heatmap: /content/drive/MyDrive/AI_Embryo_Viability_Prediction/lime_heatmaps_full/lime_42.png\n",
            "100% 1000/1000 [00:10<00:00, 94.81it/s]\n",
            "Saved LIME heatmap: /content/drive/MyDrive/AI_Embryo_Viability_Prediction/lime_heatmaps_full/lime_43.png\n",
            "100% 1000/1000 [00:11<00:00, 90.12it/s]\n",
            "Saved LIME heatmap: /content/drive/MyDrive/AI_Embryo_Viability_Prediction/lime_heatmaps_full/lime_44.png\n",
            "100% 1000/1000 [00:10<00:00, 93.58it/s]\n",
            "Saved LIME heatmap: /content/drive/MyDrive/AI_Embryo_Viability_Prediction/lime_heatmaps_full/lime_45.png\n",
            "100% 1000/1000 [00:09<00:00, 100.84it/s]\n",
            "Saved LIME heatmap: /content/drive/MyDrive/AI_Embryo_Viability_Prediction/lime_heatmaps_full/lime_46.png\n",
            "100% 1000/1000 [00:11<00:00, 88.41it/s]\n",
            "Saved LIME heatmap: /content/drive/MyDrive/AI_Embryo_Viability_Prediction/lime_heatmaps_full/lime_47.png\n",
            "100% 1000/1000 [00:10<00:00, 94.28it/s]\n",
            "Saved LIME heatmap: /content/drive/MyDrive/AI_Embryo_Viability_Prediction/lime_heatmaps_full/lime_48.png\n",
            "100% 1000/1000 [00:10<00:00, 94.76it/s]\n",
            "Saved LIME heatmap: /content/drive/MyDrive/AI_Embryo_Viability_Prediction/lime_heatmaps_full/lime_49.png\n",
            "100% 1000/1000 [00:11<00:00, 86.97it/s]\n",
            "Saved LIME heatmap: /content/drive/MyDrive/AI_Embryo_Viability_Prediction/lime_heatmaps_full/lime_50.png\n",
            "100% 1000/1000 [00:10<00:00, 94.34it/s]\n",
            "Saved LIME heatmap: /content/drive/MyDrive/AI_Embryo_Viability_Prediction/lime_heatmaps_full/lime_51.png\n",
            "100% 1000/1000 [00:10<00:00, 94.68it/s]\n",
            "Saved LIME heatmap: /content/drive/MyDrive/AI_Embryo_Viability_Prediction/lime_heatmaps_full/lime_52.png\n",
            "100% 1000/1000 [00:10<00:00, 96.97it/s]\n",
            "Saved LIME heatmap: /content/drive/MyDrive/AI_Embryo_Viability_Prediction/lime_heatmaps_full/lime_53.png\n",
            "100% 1000/1000 [00:09<00:00, 101.74it/s]\n",
            "Saved LIME heatmap: /content/drive/MyDrive/AI_Embryo_Viability_Prediction/lime_heatmaps_full/lime_54.png\n",
            "100% 1000/1000 [00:10<00:00, 94.33it/s]\n",
            "Saved LIME heatmap: /content/drive/MyDrive/AI_Embryo_Viability_Prediction/lime_heatmaps_full/lime_55.png\n",
            "100% 1000/1000 [00:10<00:00, 93.79it/s]\n",
            "Saved LIME heatmap: /content/drive/MyDrive/AI_Embryo_Viability_Prediction/lime_heatmaps_full/lime_56.png\n",
            "100% 1000/1000 [00:10<00:00, 94.97it/s]\n",
            "Saved LIME heatmap: /content/drive/MyDrive/AI_Embryo_Viability_Prediction/lime_heatmaps_full/lime_57.png\n",
            "100% 1000/1000 [00:10<00:00, 95.67it/s]\n",
            "Saved LIME heatmap: /content/drive/MyDrive/AI_Embryo_Viability_Prediction/lime_heatmaps_full/lime_58.png\n",
            "100% 1000/1000 [00:10<00:00, 96.03it/s]\n",
            "Saved LIME heatmap: /content/drive/MyDrive/AI_Embryo_Viability_Prediction/lime_heatmaps_full/lime_59.png\n",
            "100% 1000/1000 [00:09<00:00, 103.64it/s]\n",
            "Saved LIME heatmap: /content/drive/MyDrive/AI_Embryo_Viability_Prediction/lime_heatmaps_full/lime_60.png\n",
            "100% 1000/1000 [00:11<00:00, 90.76it/s]\n",
            "Saved LIME heatmap: /content/drive/MyDrive/AI_Embryo_Viability_Prediction/lime_heatmaps_full/lime_61.png\n",
            "100% 1000/1000 [00:12<00:00, 82.90it/s]\n",
            "Saved LIME heatmap: /content/drive/MyDrive/AI_Embryo_Viability_Prediction/lime_heatmaps_full/lime_62.png\n",
            "100% 1000/1000 [00:10<00:00, 95.07it/s] \n",
            "Saved LIME heatmap: /content/drive/MyDrive/AI_Embryo_Viability_Prediction/lime_heatmaps_full/lime_63.png\n",
            "100% 1000/1000 [00:10<00:00, 94.09it/s]\n",
            "Saved LIME heatmap: /content/drive/MyDrive/AI_Embryo_Viability_Prediction/lime_heatmaps_full/lime_64.png\n",
            "100% 1000/1000 [00:10<00:00, 94.92it/s]\n",
            "Saved LIME heatmap: /content/drive/MyDrive/AI_Embryo_Viability_Prediction/lime_heatmaps_full/lime_65.png\n",
            "100% 1000/1000 [00:10<00:00, 96.09it/s]\n",
            "Saved LIME heatmap: /content/drive/MyDrive/AI_Embryo_Viability_Prediction/lime_heatmaps_full/lime_66.png\n",
            "100% 1000/1000 [00:09<00:00, 103.49it/s]\n",
            "Saved LIME heatmap: /content/drive/MyDrive/AI_Embryo_Viability_Prediction/lime_heatmaps_full/lime_67.png\n",
            "100% 1000/1000 [00:10<00:00, 95.03it/s]\n",
            "Saved LIME heatmap: /content/drive/MyDrive/AI_Embryo_Viability_Prediction/lime_heatmaps_full/lime_68.png\n",
            "100% 1000/1000 [00:10<00:00, 94.16it/s]\n",
            "Saved LIME heatmap: /content/drive/MyDrive/AI_Embryo_Viability_Prediction/lime_heatmaps_full/lime_69.png\n",
            "100% 1000/1000 [00:10<00:00, 94.76it/s]\n",
            "Saved LIME heatmap: /content/drive/MyDrive/AI_Embryo_Viability_Prediction/lime_heatmaps_full/lime_70.png\n",
            "100% 1000/1000 [00:10<00:00, 94.56it/s]\n",
            "Saved LIME heatmap: /content/drive/MyDrive/AI_Embryo_Viability_Prediction/lime_heatmaps_full/lime_71.png\n",
            "100% 1000/1000 [00:10<00:00, 94.25it/s]\n",
            "Saved LIME heatmap: /content/drive/MyDrive/AI_Embryo_Viability_Prediction/lime_heatmaps_full/lime_72.png\n",
            "100% 1000/1000 [00:09<00:00, 102.31it/s]\n",
            "Saved LIME heatmap: /content/drive/MyDrive/AI_Embryo_Viability_Prediction/lime_heatmaps_full/lime_73.png\n",
            "100% 1000/1000 [00:10<00:00, 97.37it/s]\n",
            "Saved LIME heatmap: /content/drive/MyDrive/AI_Embryo_Viability_Prediction/lime_heatmaps_full/lime_74.png\n",
            "100% 1000/1000 [00:10<00:00, 93.54it/s]\n",
            "Saved LIME heatmap: /content/drive/MyDrive/AI_Embryo_Viability_Prediction/lime_heatmaps_full/lime_75.png\n",
            "100% 1000/1000 [00:10<00:00, 94.66it/s] \n",
            "Saved LIME heatmap: /content/drive/MyDrive/AI_Embryo_Viability_Prediction/lime_heatmaps_full/lime_76.png\n",
            "100% 1000/1000 [00:10<00:00, 94.92it/s]\n",
            "Saved LIME heatmap: /content/drive/MyDrive/AI_Embryo_Viability_Prediction/lime_heatmaps_full/lime_77.png\n",
            "100% 1000/1000 [00:10<00:00, 94.87it/s]\n",
            "Saved LIME heatmap: /content/drive/MyDrive/AI_Embryo_Viability_Prediction/lime_heatmaps_full/lime_78.png\n",
            "100% 1000/1000 [00:10<00:00, 99.05it/s]\n",
            "Saved LIME heatmap: /content/drive/MyDrive/AI_Embryo_Viability_Prediction/lime_heatmaps_full/lime_79.png\n",
            "100% 1000/1000 [00:09<00:00, 101.43it/s]\n",
            "Saved LIME heatmap: /content/drive/MyDrive/AI_Embryo_Viability_Prediction/lime_heatmaps_full/lime_80.png\n",
            "100% 1000/1000 [00:10<00:00, 94.53it/s]\n",
            "Saved LIME heatmap: /content/drive/MyDrive/AI_Embryo_Viability_Prediction/lime_heatmaps_full/lime_81.png\n",
            "100% 1000/1000 [00:10<00:00, 95.25it/s]\n",
            "Saved LIME heatmap: /content/drive/MyDrive/AI_Embryo_Viability_Prediction/lime_heatmaps_full/lime_82.png\n",
            "100% 1000/1000 [00:10<00:00, 94.83it/s]\n",
            "Saved LIME heatmap: /content/drive/MyDrive/AI_Embryo_Viability_Prediction/lime_heatmaps_full/lime_83.png\n",
            "All missing LIME explanations for 84 images generated and saved!\n"
          ]
        }
      ]
    }
  ]
}